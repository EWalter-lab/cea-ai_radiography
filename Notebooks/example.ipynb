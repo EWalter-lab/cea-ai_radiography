{
 "cells": [
  {
   "cell_type": "markdown",
   "id": "c2203b29",
   "metadata": {},
   "source": [
    "# 01. Performance Calculation"
   ]
  },
  {
   "cell_type": "code",
   "execution_count": 1,
   "id": "07454bff",
   "metadata": {},
   "outputs": [],
   "source": [
    "from cea_radiography import performance, cea\n",
    "import pandas as pd\n",
    "\n",
    "filepath = \"../01_Data/1_Data/master_dataset.csv\"\n",
    "df= pd.read_csv(filepath)\n",
    "\n",
    "eval=performance.PerformanceConfig(\n",
    "        ground_truth_col=\"ground_truth\",\n",
    "        diagnosis_col=\"diagnosis\",\n",
    "        groupby_cols=(\"examiner\",\"ai_diagnosis\"),\n",
    "        passthrough_cols=(\"experience_level\",),\n",
    "        passthrough_reduce=\"mode\",\n",
    "        positive_label=1,\n",
    "        negative_label=0,\n",
    "        zero_division_value=0.0,\n",
    "        enforce_binary=True\n",
    "    )\n",
    "\n",
    "evaluator = performance.PerformanceEvaluator(eval)\n",
    "performance_df=evaluator.evaluate(df)"
   ]
  },
  {
   "cell_type": "markdown",
   "id": "251e007a",
   "metadata": {},
   "source": [
    "# 02. Cost-effectiveness Calculation"
   ]
  },
  {
   "cell_type": "code",
   "execution_count": 2,
   "id": "686d157d",
   "metadata": {},
   "outputs": [],
   "source": [
    "Cost_EUR = cea.Cost(\n",
    "    intraoral_radiography = 14.64,\n",
    "    cbct= 214.00,\n",
    "    ai = 8,\n",
    "    rct = 415.67,\n",
    "    panoramic = 43.92,\n",
    "    crown = 377.27,\n",
    "    examination = 21.96)\n",
    "\n",
    "calculator = cea.CostEffectivenessCalculator(Cost_EUR)\n",
    "calculator.fit_cost(performance_df)\n",
    "calculator.fit_effectiveness()\n",
    "\n",
    "df=calculator.result_"
   ]
  }
 ],
 "metadata": {
  "kernelspec": {
   "display_name": "costeffectiveness",
   "language": "python",
   "name": "python3"
  },
  "language_info": {
   "codemirror_mode": {
    "name": "ipython",
    "version": 3
   },
   "file_extension": ".py",
   "mimetype": "text/x-python",
   "name": "python",
   "nbconvert_exporter": "python",
   "pygments_lexer": "ipython3",
   "version": "3.11.13"
  }
 },
 "nbformat": 4,
 "nbformat_minor": 5
}
